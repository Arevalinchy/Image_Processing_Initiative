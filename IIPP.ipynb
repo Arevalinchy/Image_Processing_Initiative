{
  "nbformat": 4,
  "nbformat_minor": 0,
  "metadata": {
    "colab": {
      "provenance": [],
      "include_colab_link": true
    },
    "kernelspec": {
      "name": "python3",
      "display_name": "Python 3"
    },
    "language_info": {
      "name": "python"
    }
  },
  "cells": [
    {
      "cell_type": "markdown",
      "metadata": {
        "id": "view-in-github",
        "colab_type": "text"
      },
      "source": [
        "<a href=\"https://colab.research.google.com/github/Arevalinchy/Image_Processing_Initiative/blob/main/IIPP.ipynb\" target=\"_parent\"><img src=\"https://colab.research.google.com/assets/colab-badge.svg\" alt=\"Open In Colab\"/></a>"
      ]
    },
    {
      "cell_type": "markdown",
      "source": [
        "# IIP Proyect"
      ],
      "metadata": {
        "id": "vgqqs722GIy2"
      }
    },
    {
      "cell_type": "markdown",
      "source": [
        "Objective: To use disparity maps from stereoscopic images to improve the segmentation of these image \\\n",
        "\n",
        "Step 1: The first step consists in computing the disparity map itself\n",
        "\n",
        "Disparity map: Is an image where its pixel has a value corresponding to the displacements of pixels from one image to the other on stereo images\n",
        "\n",
        "Algorithm idea: \\\\\n",
        "for each pixel of the image corresponding to the left eye (left image) \\\\\n",
        "find the corresponding pixel in the right image \\\\\n",
        "  \n",
        "put the corresponding distance (displacement value) in the corresponding pixel of the map\n",
        "\n",
        "\n",
        "The main problem is: how to put in correspondance pixels of two different images ?\n",
        "\n",
        "\n"
      ],
      "metadata": {
        "id": "2VPVVK52uYll"
      }
    },
    {
      "cell_type": "code",
      "execution_count": 2,
      "metadata": {
        "id": "NoTL4aG5uK_L"
      },
      "outputs": [],
      "source": [
        "import numpy as np\n",
        "import cv2 as cv\n",
        "from matplotlib import pyplot as plt"
      ]
    },
    {
      "cell_type": "markdown",
      "source": [
        "Making the stereoscopic image"
      ],
      "metadata": {
        "id": "aFCMgWbUWBFL"
      }
    },
    {
      "cell_type": "code",
      "source": [
        "imgL = cv.imread('stereoimage.png', cv.IMREAD_GRAYSCALE)\n",
        "plt.imshow(iml)\n",
        "plt.show()"
      ],
      "metadata": {
        "id": "b_RCGxRqWAyL"
      },
      "execution_count": 7,
      "outputs": []
    },
    {
      "cell_type": "code",
      "source": [
        "imgL = cv.imread('tsukuba_l.png', cv.IMREAD_GRAYSCALE)\n",
        "imgR = cv.imread('tsukuba_r.png', cv.IMREAD_GRAYSCALE)\n",
        "\n",
        "stereo = cv.StereoBM.create(numDisparities=16, blockSize=15)\n",
        "disparity = stereo.compute(imgL,imgR)\n",
        "plt.imshow(disparity,'gray')\n",
        "plt.show()"
      ],
      "metadata": {
        "colab": {
          "base_uri": "https://localhost:8080/",
          "height": 228
        },
        "id": "X-qbSFWKPMn9",
        "outputId": "7960a7ec-4e36-43fc-8d7b-9ceacf7f5fe3"
      },
      "execution_count": 3,
      "outputs": [
        {
          "output_type": "error",
          "ename": "error",
          "evalue": "OpenCV(4.8.0) /io/opencv/modules/calib3d/src/stereobm.cpp:1190: error: (-211:One of the arguments' values is out of range) SADWindowSize must be odd, be within 5..255 and be not larger than image width or height in function 'compute'\n",
          "traceback": [
            "\u001b[0;31m---------------------------------------------------------------------------\u001b[0m",
            "\u001b[0;31merror\u001b[0m                                     Traceback (most recent call last)",
            "\u001b[0;32m<ipython-input-3-302dc4b1c55c>\u001b[0m in \u001b[0;36m<cell line: 5>\u001b[0;34m()\u001b[0m\n\u001b[1;32m      3\u001b[0m \u001b[0;34m\u001b[0m\u001b[0m\n\u001b[1;32m      4\u001b[0m \u001b[0mstereo\u001b[0m \u001b[0;34m=\u001b[0m \u001b[0mcv\u001b[0m\u001b[0;34m.\u001b[0m\u001b[0mStereoBM\u001b[0m\u001b[0;34m.\u001b[0m\u001b[0mcreate\u001b[0m\u001b[0;34m(\u001b[0m\u001b[0mnumDisparities\u001b[0m\u001b[0;34m=\u001b[0m\u001b[0;36m16\u001b[0m\u001b[0;34m,\u001b[0m \u001b[0mblockSize\u001b[0m\u001b[0;34m=\u001b[0m\u001b[0;36m15\u001b[0m\u001b[0;34m)\u001b[0m\u001b[0;34m\u001b[0m\u001b[0;34m\u001b[0m\u001b[0m\n\u001b[0;32m----> 5\u001b[0;31m \u001b[0mdisparity\u001b[0m \u001b[0;34m=\u001b[0m \u001b[0mstereo\u001b[0m\u001b[0;34m.\u001b[0m\u001b[0mcompute\u001b[0m\u001b[0;34m(\u001b[0m\u001b[0mimgL\u001b[0m\u001b[0;34m,\u001b[0m\u001b[0mimgR\u001b[0m\u001b[0;34m)\u001b[0m\u001b[0;34m\u001b[0m\u001b[0;34m\u001b[0m\u001b[0m\n\u001b[0m\u001b[1;32m      6\u001b[0m \u001b[0mplt\u001b[0m\u001b[0;34m.\u001b[0m\u001b[0mimshow\u001b[0m\u001b[0;34m(\u001b[0m\u001b[0mdisparity\u001b[0m\u001b[0;34m,\u001b[0m\u001b[0;34m'gray'\u001b[0m\u001b[0;34m)\u001b[0m\u001b[0;34m\u001b[0m\u001b[0;34m\u001b[0m\u001b[0m\n\u001b[1;32m      7\u001b[0m \u001b[0mplt\u001b[0m\u001b[0;34m.\u001b[0m\u001b[0mshow\u001b[0m\u001b[0;34m(\u001b[0m\u001b[0;34m)\u001b[0m\u001b[0;34m\u001b[0m\u001b[0;34m\u001b[0m\u001b[0m\n",
            "\u001b[0;31merror\u001b[0m: OpenCV(4.8.0) /io/opencv/modules/calib3d/src/stereobm.cpp:1190: error: (-211:One of the arguments' values is out of range) SADWindowSize must be odd, be within 5..255 and be not larger than image width or height in function 'compute'\n"
          ]
        }
      ]
    },
    {
      "cell_type": "markdown",
      "source": [
        "Shift code\n"
      ],
      "metadata": {
        "id": "RlG3dXR_FuEN"
      }
    },
    {
      "cell_type": "code",
      "source": [
        "import numpy as np\n",
        "import cv2 as cv\n",
        "img = cv.imread('home.jpg')\n",
        "gray= cv.cvtColor(img,cv.COLOR_BGR2GRAY)\n",
        "sift = cv.SIFT_create()\n",
        "kp = sift.detect(gray,None)\n",
        "img=cv.drawKeypoints(gray,kp,img)\n",
        "cv.imwrite('sift_keypoints.jpg',img)"
      ],
      "metadata": {
        "id": "jM8utdnQFsui"
      },
      "execution_count": null,
      "outputs": []
    }
  ]
}